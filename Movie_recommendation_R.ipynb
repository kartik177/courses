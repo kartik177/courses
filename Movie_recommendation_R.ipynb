{
  "nbformat": 4,
  "nbformat_minor": 0,
  "metadata": {
    "colab": {
      "name": "Movie recommendation.R ",
      "provenance": [],
      "authorship_tag": "ABX9TyOt//4fDkplNzQrT7oOJJa8",
      "include_colab_link": true
    },
    "kernelspec": {
      "name": "python3",
      "display_name": "Python 3"
    }
  },
  "cells": [
    {
      "cell_type": "markdown",
      "metadata": {
        "id": "view-in-github",
        "colab_type": "text"
      },
      "source": [
        "<a href=\"https://colab.research.google.com/github/kartik177/courses/blob/master/Movie_recommendation_R.ipynb\" target=\"_parent\"><img src=\"https://colab.research.google.com/assets/colab-badge.svg\" alt=\"Open In Colab\"/></a>"
      ]
    },
    {
      "cell_type": "code",
      "metadata": {
        "id": "Y5JhfcZRBzSK",
        "colab_type": "code",
        "colab": {}
      },
      "source": [
        "library(recommenderlab)"
      ],
      "execution_count": null,
      "outputs": []
    },
    {
      "cell_type": "code",
      "metadata": {
        "id": "fZzGD66rEX8-",
        "colab_type": "code",
        "colab": {}
      },
      "source": [
        "library(ggplot2)                       \n",
        "library(data.table)\n",
        "library(reshape2)"
      ],
      "execution_count": null,
      "outputs": []
    },
    {
      "cell_type": "code",
      "metadata": {
        "id": "GFAwTUZrEjFW",
        "colab_type": "code",
        "colab": {}
      },
      "source": [
        "movie_data <- read.csv(\"movies.csv\",stringsAsFactors=FALSE)\n",
        "rating_data <- read.csv(\"ratings.csv\")\n",
        "str(movie_data)\n"
      ],
      "execution_count": null,
      "outputs": []
    },
    {
      "cell_type": "code",
      "metadata": {
        "id": "b8PccMyoEnXi",
        "colab_type": "code",
        "colab": {}
      },
      "source": [
        "summary(movie_data)"
      ],
      "execution_count": null,
      "outputs": []
    },
    {
      "cell_type": "code",
      "metadata": {
        "id": "d_fnmk1cEsaC",
        "colab_type": "code",
        "colab": {}
      },
      "source": [
        "summary(rating_data)"
      ],
      "execution_count": null,
      "outputs": []
    },
    {
      "cell_type": "code",
      "metadata": {
        "id": "lXc12TycE2yQ",
        "colab_type": "code",
        "colab": {}
      },
      "source": [
        "movie_genre <- as.data.frame(movie_data$genres, stringsAsFactors=FALSE)\n",
        "library(data.table)\n",
        "movie_genre2 <- as.data.frame(tstrsplit(movie_genre[,1], '[|]', \n",
        "                                   type.convert=TRUE), \n",
        "                         stringsAsFactors=FALSE) #DataFlair\n",
        "colnames(movie_genre2) <- c(1:10)\n",
        "list_genre <- c(\"Action\", \"Adventure\", \"Animation\", \"Children\", \n",
        "                \"Comedy\", \"Crime\",\"Documentary\", \"Drama\", \"Fantasy\",\n",
        "                \"Film-Noir\", \"Horror\", \"Musical\", \"Mystery\",\"Romance\",\n",
        "                \"Sci-Fi\", \"Thriller\", \"War\", \"Western\")\n",
        "genre_mat1 <- matrix(0,10330,18)\n",
        "genre_mat1[1,] <- list_genre\n",
        "colnames(genre_mat1) <- list_genre\n",
        "for (index in 1:nrow(movie_genre2)) {\n",
        "  for (col in 1:ncol(movie_genre2)) {\n",
        "    gen_col = which(genre_mat1[1,] == movie_genre2[index,col]) #Author DataFlair\n",
        "    genre_mat1[index+1,gen_col] <- 1\n",
        "}\n",
        "}\n",
        "genre_mat2 <- as.data.frame(genre_mat1[-1,], stringsAsFactors=FALSE) #remove first row, which was the genre list\n",
        "for (col in 1:ncol(genre_mat2)) {\n",
        "  genre_mat2[,col] <- as.integer(genre_mat2[,col]) #convert from characters to integers\n",
        "} \n",
        "str(genre_mat2)\n"
      ],
      "execution_count": null,
      "outputs": []
    },
    {
      "cell_type": "code",
      "metadata": {
        "id": "QU2CvgMKE-bf",
        "colab_type": "code",
        "colab": {}
      },
      "source": [
        "SearchMatrix <- cbind(movie_data[,1:2], genre_mat2[])\n"
      ],
      "execution_count": null,
      "outputs": []
    },
    {
      "cell_type": "code",
      "metadata": {
        "id": "K51X2icmFGCb",
        "colab_type": "code",
        "colab": {}
      },
      "source": [
        "ratingMatrix <- dcast(rating_data, userId~movieId, value.var = \"rating\", na.rm=FALSE)\n",
        "ratingMatrix <- as.matrix(ratingMatrix[,-1]) #remove userIds\n",
        "#Convert rating matrix into a recommenderlab sparse matrix\n",
        "ratingMatrix <- as(ratingMatrix, \"realRatingMatrix\")\n",
        "ratingMatrix"
      ],
      "execution_count": null,
      "outputs": []
    },
    {
      "cell_type": "code",
      "metadata": {
        "id": "3gZGSJwdFLu3",
        "colab_type": "code",
        "colab": {}
      },
      "source": [
        "recommendation_model <- recommenderRegistry$get_entries(dataType = \"realRatingMatrix\")\n",
        "names(recommendation_model)"
      ],
      "execution_count": null,
      "outputs": []
    },
    {
      "cell_type": "code",
      "metadata": {
        "id": "Zl8XIeMjFQbS",
        "colab_type": "code",
        "colab": {}
      },
      "source": [
        "lapply(recommendation_model, \"[[\", \"description\")\n"
      ],
      "execution_count": null,
      "outputs": []
    },
    {
      "cell_type": "code",
      "metadata": {
        "id": "98qer4eTFUco",
        "colab_type": "code",
        "colab": {}
      },
      "source": [
        "recommendation_model$IBCF_realRatingMatrix$parameters\n"
      ],
      "execution_count": null,
      "outputs": []
    },
    {
      "cell_type": "code",
      "metadata": {
        "id": "6OWxtQUOFZcQ",
        "colab_type": "code",
        "colab": {}
      },
      "source": [
        "similarity_mat <- similarity(ratingMatrix[1:4, ],\n",
        "                               method = \"cosine\",\n",
        "                               which = \"users\")\n",
        "as.matrix(similarity_mat)\n",
        "image(as.matrix(similarity_mat), main = \"User's Similarities\")"
      ],
      "execution_count": null,
      "outputs": []
    },
    {
      "cell_type": "code",
      "metadata": {
        "id": "15Yz7m2VFelG",
        "colab_type": "code",
        "colab": {}
      },
      "source": [
        "movie_similarity <- similarity(ratingMatrix[, 1:4], method =\n",
        "                                 \"cosine\", which = \"items\")\n",
        "as.matrix(movie_similarity)\n",
        "image(as.matrix(movie_similarity), main = \"Movies similarity\")"
      ],
      "execution_count": null,
      "outputs": []
    },
    {
      "cell_type": "code",
      "metadata": {
        "id": "7jdQR_CJFlnv",
        "colab_type": "code",
        "colab": {}
      },
      "source": [
        "rating_values <- as.vector(ratingMatrix@data)\n",
        "unique(rating_values)"
      ],
      "execution_count": null,
      "outputs": []
    },
    {
      "cell_type": "code",
      "metadata": {
        "id": "iflPTUJxFpZO",
        "colab_type": "code",
        "colab": {}
      },
      "source": [
        "Table_of_Ratings <- table(rating_values) # creating a count of movie ratings\n",
        "Table_of_Ratings"
      ],
      "execution_count": null,
      "outputs": []
    },
    {
      "cell_type": "code",
      "metadata": {
        "id": "--HUwz3oF0jU",
        "colab_type": "code",
        "colab": {}
      },
      "source": [
        "library(ggplot2)\n",
        "movie_views <- colCounts(ratingMatrix) # count views for each movie\n",
        "table_views <- data.frame(movie = names(movie_views),\n",
        "                          views = movie_views) # create dataframe of views\n",
        "table_views <- table_views[order(table_views$views,\n",
        "                                 decreasing = TRUE), ] # sort by number of views\n",
        "table_views$title <- NA\n",
        "for (index in 1:10325){\n",
        "  table_views[index,3] <- as.character(subset(movie_data,\n",
        "                                         movie_data$movieId == table_views[index,1])$title)\n",
        "}\n",
        "table_views[1:6,]"
      ],
      "execution_count": null,
      "outputs": []
    },
    {
      "cell_type": "code",
      "metadata": {
        "id": "iBUwbu4WF64m",
        "colab_type": "code",
        "colab": {}
      },
      "source": [
        "ggplot(table_views[1:6, ], aes(x = title, y = views)) +\n",
        "  geom_bar(stat=\"identity\", fill = 'steelblue') +\n",
        "  geom_text(aes(label=views), vjust=-0.3, size=3.5) +\n",
        "  theme(axis.text.x = element_text(angle = 45, hjust = 1)) +\n",
        "  ggtitle(\"Total Views of the Top Films\")"
      ],
      "execution_count": null,
      "outputs": []
    },
    {
      "cell_type": "code",
      "metadata": {
        "id": "YOkFcVn8GCWN",
        "colab_type": "code",
        "colab": {}
      },
      "source": [
        "image(ratingMatrix[1:20, 1:25], axes = FALSE, main = \"Heatmap of the first 25 rows and 25 columns\")"
      ],
      "execution_count": null,
      "outputs": []
    },
    {
      "cell_type": "code",
      "metadata": {
        "id": "2d-V0NV6GGgr",
        "colab_type": "code",
        "colab": {}
      },
      "source": [
        "movie_ratings <- ratingMatrix[rowCounts(ratingMatrix) > 50,\n",
        "                             colCounts(ratingMatrix) > 50]\n",
        "Movie_ratings"
      ],
      "execution_count": null,
      "outputs": []
    },
    {
      "cell_type": "code",
      "metadata": {
        "id": "uf0bHF0lGKyY",
        "colab_type": "code",
        "colab": {}
      },
      "source": [
        "minimum_movies<- quantile(rowCounts(movie_ratings), 0.98)\n",
        "minimum_users <- quantile(colCounts(movie_ratings), 0.98)\n",
        "image(movie_ratings[rowCounts(movie_ratings) > minimum_movies,\n",
        "                     colCounts(movie_ratings) > minimum_users],\n",
        "main = \"Heatmap of the top users and movies\")"
      ],
      "execution_count": null,
      "outputs": []
    },
    {
      "cell_type": "code",
      "metadata": {
        "id": "Hmo3Q5TCGPro",
        "colab_type": "code",
        "colab": {}
      },
      "source": [
        "average_ratings <- rowMeans(movie_ratings)\n",
        "qplot(average_ratings, fill=I(\"steelblue\"), col=I(\"red\")) +\n",
        "  ggtitle(\"Distribution of the average rating per user\")"
      ],
      "execution_count": null,
      "outputs": []
    },
    {
      "cell_type": "code",
      "metadata": {
        "id": "uPTbzBP6GVML",
        "colab_type": "code",
        "colab": {}
      },
      "source": [
        "normalized_ratings <- normalize(movie_ratings)\n",
        "sum(rowMeans(normalized_ratings) > 0.00001)\n",
        "image(normalized_ratings[rowCounts(normalized_ratings) > minimum_movies,\n",
        "                          colCounts(normalized_ratings) > minimum_users],\n",
        "main = \"Normalized Ratings of the Top Users\")"
      ],
      "execution_count": null,
      "outputs": []
    },
    {
      "cell_type": "code",
      "metadata": {
        "id": "-yruAwWWGaES",
        "colab_type": "code",
        "colab": {}
      },
      "source": [
        "binary_minimum_movies <- quantile(rowCounts(movie_ratings), 0.95)\n",
        "binary_minimum_users <- quantile(colCounts(movie_ratings), 0.95)\n",
        "#movies_watched <- binarize(movie_ratings, minRating = 1)\n",
        "good_rated_films <- binarize(movie_ratings, minRating = 3)\n",
        "image(good_rated_films[rowCounts(movie_ratings) > binary_minimum_movies,\n",
        "colCounts(movie_ratings) > binary_minimum_users],\n",
        "main = \"Heatmap of the top users and movies\")\n"
      ],
      "execution_count": null,
      "outputs": []
    },
    {
      "cell_type": "code",
      "metadata": {
        "id": "OSmCBHoxGhn_",
        "colab_type": "code",
        "colab": {}
      },
      "source": [
        "sampled_data<- sample(x = c(TRUE, FALSE),\n",
        "                      size = nrow(movie_ratings),\n",
        "                      replace = TRUE,\n",
        "                      prob = c(0.8, 0.2))\n",
        "training_data <- movie_ratings[sampled_data, ]\n",
        "testing_data <- movie_ratings[!sampled_data, ]"
      ],
      "execution_count": null,
      "outputs": []
    },
    {
      "cell_type": "code",
      "metadata": {
        "id": "4FI6gd9iGnWk",
        "colab_type": "code",
        "colab": {}
      },
      "source": [
        "recommendation_system <- recommenderRegistry$get_entries(dataType =\"realRatingMatrix\")\n",
        "recommendation_system$IBCF_realRatingMatrix$parameters"
      ],
      "execution_count": null,
      "outputs": []
    },
    {
      "cell_type": "code",
      "metadata": {
        "id": "bEIHRgeSGrD1",
        "colab_type": "code",
        "colab": {}
      },
      "source": [
        "model_info <- getModel(recommen_model)\n",
        "class(model_info$sim)\n",
        "dim(model_info$sim)\n",
        "top_items <- 20\n",
        "image(model_info$sim[1:top_items, 1:top_items],\n",
        "   main = \"Heatmap of the first rows and columns\")"
      ],
      "execution_count": null,
      "outputs": []
    },
    {
      "cell_type": "code",
      "metadata": {
        "id": "GmM9roLNG1bA",
        "colab_type": "code",
        "colab": {}
      },
      "source": [
        "top_recommendations <- 10 # the number of items to recommend to each user\n",
        "predicted_recommendations <- predict(object = recommen_model,\n",
        "                          newdata = testing_data,\n",
        "                          n = top_recommendations)\n",
        "predicted_recommendations"
      ],
      "execution_count": null,
      "outputs": []
    },
    {
      "cell_type": "code",
      "metadata": {
        "id": "a0hN5-eqG6RC",
        "colab_type": "code",
        "colab": {}
      },
      "source": [
        "recommendation_matrix <- sapply(predicted_recommendations@items,\n",
        "                      function(x){ as.integer(colnames(movie_ratings)[x]) }) # matrix with the recommendations for each user\n",
        "#dim(recc_matrix)\n",
        "recommendation_matrix[,1:4]"
      ],
      "execution_count": null,
      "outputs": []
    }
  ]
}